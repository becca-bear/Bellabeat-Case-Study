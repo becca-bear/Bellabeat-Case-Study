{
 "cells": [
  {
   "cell_type": "code",
   "execution_count": 15,
   "metadata": {},
   "outputs": [
    {
     "data": {
      "application/vnd.plotly.v1+json": {
       "config": {
        "plotlyServerURL": "https://plot.ly"
       },
       "data": [
        {
         "domain": {
          "x": [
           0,
           1
          ],
          "y": [
           0,
           1
          ]
         },
         "hovertemplate": "label=%{label}<br>value=%{value}<extra></extra>",
         "labels": [
          "Very Active",
          "Fairly Active",
          "Lightly Active",
          "Sedentary"
         ],
         "legendgroup": "",
         "name": "",
         "showlegend": true,
         "type": "pie",
         "values": [
          19895,
          12751,
          181244,
          931738
         ]
        }
       ],
       "layout": {
        "legend": {
         "tracegroupgap": 0
        },
        "template": {
         "data": {
          "bar": [
           {
            "error_x": {
             "color": "#2a3f5f"
            },
            "error_y": {
             "color": "#2a3f5f"
            },
            "marker": {
             "line": {
              "color": "#E5ECF6",
              "width": 0.5
             },
             "pattern": {
              "fillmode": "overlay",
              "size": 10,
              "solidity": 0.2
             }
            },
            "type": "bar"
           }
          ],
          "barpolar": [
           {
            "marker": {
             "line": {
              "color": "#E5ECF6",
              "width": 0.5
             },
             "pattern": {
              "fillmode": "overlay",
              "size": 10,
              "solidity": 0.2
             }
            },
            "type": "barpolar"
           }
          ],
          "carpet": [
           {
            "aaxis": {
             "endlinecolor": "#2a3f5f",
             "gridcolor": "white",
             "linecolor": "white",
             "minorgridcolor": "white",
             "startlinecolor": "#2a3f5f"
            },
            "baxis": {
             "endlinecolor": "#2a3f5f",
             "gridcolor": "white",
             "linecolor": "white",
             "minorgridcolor": "white",
             "startlinecolor": "#2a3f5f"
            },
            "type": "carpet"
           }
          ],
          "choropleth": [
           {
            "colorbar": {
             "outlinewidth": 0,
             "ticks": ""
            },
            "type": "choropleth"
           }
          ],
          "contour": [
           {
            "colorbar": {
             "outlinewidth": 0,
             "ticks": ""
            },
            "colorscale": [
             [
              0,
              "#0d0887"
             ],
             [
              0.1111111111111111,
              "#46039f"
             ],
             [
              0.2222222222222222,
              "#7201a8"
             ],
             [
              0.3333333333333333,
              "#9c179e"
             ],
             [
              0.4444444444444444,
              "#bd3786"
             ],
             [
              0.5555555555555556,
              "#d8576b"
             ],
             [
              0.6666666666666666,
              "#ed7953"
             ],
             [
              0.7777777777777778,
              "#fb9f3a"
             ],
             [
              0.8888888888888888,
              "#fdca26"
             ],
             [
              1,
              "#f0f921"
             ]
            ],
            "type": "contour"
           }
          ],
          "contourcarpet": [
           {
            "colorbar": {
             "outlinewidth": 0,
             "ticks": ""
            },
            "type": "contourcarpet"
           }
          ],
          "heatmap": [
           {
            "colorbar": {
             "outlinewidth": 0,
             "ticks": ""
            },
            "colorscale": [
             [
              0,
              "#0d0887"
             ],
             [
              0.1111111111111111,
              "#46039f"
             ],
             [
              0.2222222222222222,
              "#7201a8"
             ],
             [
              0.3333333333333333,
              "#9c179e"
             ],
             [
              0.4444444444444444,
              "#bd3786"
             ],
             [
              0.5555555555555556,
              "#d8576b"
             ],
             [
              0.6666666666666666,
              "#ed7953"
             ],
             [
              0.7777777777777778,
              "#fb9f3a"
             ],
             [
              0.8888888888888888,
              "#fdca26"
             ],
             [
              1,
              "#f0f921"
             ]
            ],
            "type": "heatmap"
           }
          ],
          "heatmapgl": [
           {
            "colorbar": {
             "outlinewidth": 0,
             "ticks": ""
            },
            "colorscale": [
             [
              0,
              "#0d0887"
             ],
             [
              0.1111111111111111,
              "#46039f"
             ],
             [
              0.2222222222222222,
              "#7201a8"
             ],
             [
              0.3333333333333333,
              "#9c179e"
             ],
             [
              0.4444444444444444,
              "#bd3786"
             ],
             [
              0.5555555555555556,
              "#d8576b"
             ],
             [
              0.6666666666666666,
              "#ed7953"
             ],
             [
              0.7777777777777778,
              "#fb9f3a"
             ],
             [
              0.8888888888888888,
              "#fdca26"
             ],
             [
              1,
              "#f0f921"
             ]
            ],
            "type": "heatmapgl"
           }
          ],
          "histogram": [
           {
            "marker": {
             "pattern": {
              "fillmode": "overlay",
              "size": 10,
              "solidity": 0.2
             }
            },
            "type": "histogram"
           }
          ],
          "histogram2d": [
           {
            "colorbar": {
             "outlinewidth": 0,
             "ticks": ""
            },
            "colorscale": [
             [
              0,
              "#0d0887"
             ],
             [
              0.1111111111111111,
              "#46039f"
             ],
             [
              0.2222222222222222,
              "#7201a8"
             ],
             [
              0.3333333333333333,
              "#9c179e"
             ],
             [
              0.4444444444444444,
              "#bd3786"
             ],
             [
              0.5555555555555556,
              "#d8576b"
             ],
             [
              0.6666666666666666,
              "#ed7953"
             ],
             [
              0.7777777777777778,
              "#fb9f3a"
             ],
             [
              0.8888888888888888,
              "#fdca26"
             ],
             [
              1,
              "#f0f921"
             ]
            ],
            "type": "histogram2d"
           }
          ],
          "histogram2dcontour": [
           {
            "colorbar": {
             "outlinewidth": 0,
             "ticks": ""
            },
            "colorscale": [
             [
              0,
              "#0d0887"
             ],
             [
              0.1111111111111111,
              "#46039f"
             ],
             [
              0.2222222222222222,
              "#7201a8"
             ],
             [
              0.3333333333333333,
              "#9c179e"
             ],
             [
              0.4444444444444444,
              "#bd3786"
             ],
             [
              0.5555555555555556,
              "#d8576b"
             ],
             [
              0.6666666666666666,
              "#ed7953"
             ],
             [
              0.7777777777777778,
              "#fb9f3a"
             ],
             [
              0.8888888888888888,
              "#fdca26"
             ],
             [
              1,
              "#f0f921"
             ]
            ],
            "type": "histogram2dcontour"
           }
          ],
          "mesh3d": [
           {
            "colorbar": {
             "outlinewidth": 0,
             "ticks": ""
            },
            "type": "mesh3d"
           }
          ],
          "parcoords": [
           {
            "line": {
             "colorbar": {
              "outlinewidth": 0,
              "ticks": ""
             }
            },
            "type": "parcoords"
           }
          ],
          "pie": [
           {
            "automargin": true,
            "type": "pie"
           }
          ],
          "scatter": [
           {
            "fillpattern": {
             "fillmode": "overlay",
             "size": 10,
             "solidity": 0.2
            },
            "type": "scatter"
           }
          ],
          "scatter3d": [
           {
            "line": {
             "colorbar": {
              "outlinewidth": 0,
              "ticks": ""
             }
            },
            "marker": {
             "colorbar": {
              "outlinewidth": 0,
              "ticks": ""
             }
            },
            "type": "scatter3d"
           }
          ],
          "scattercarpet": [
           {
            "marker": {
             "colorbar": {
              "outlinewidth": 0,
              "ticks": ""
             }
            },
            "type": "scattercarpet"
           }
          ],
          "scattergeo": [
           {
            "marker": {
             "colorbar": {
              "outlinewidth": 0,
              "ticks": ""
             }
            },
            "type": "scattergeo"
           }
          ],
          "scattergl": [
           {
            "marker": {
             "colorbar": {
              "outlinewidth": 0,
              "ticks": ""
             }
            },
            "type": "scattergl"
           }
          ],
          "scattermapbox": [
           {
            "marker": {
             "colorbar": {
              "outlinewidth": 0,
              "ticks": ""
             }
            },
            "type": "scattermapbox"
           }
          ],
          "scatterpolar": [
           {
            "marker": {
             "colorbar": {
              "outlinewidth": 0,
              "ticks": ""
             }
            },
            "type": "scatterpolar"
           }
          ],
          "scatterpolargl": [
           {
            "marker": {
             "colorbar": {
              "outlinewidth": 0,
              "ticks": ""
             }
            },
            "type": "scatterpolargl"
           }
          ],
          "scatterternary": [
           {
            "marker": {
             "colorbar": {
              "outlinewidth": 0,
              "ticks": ""
             }
            },
            "type": "scatterternary"
           }
          ],
          "surface": [
           {
            "colorbar": {
             "outlinewidth": 0,
             "ticks": ""
            },
            "colorscale": [
             [
              0,
              "#0d0887"
             ],
             [
              0.1111111111111111,
              "#46039f"
             ],
             [
              0.2222222222222222,
              "#7201a8"
             ],
             [
              0.3333333333333333,
              "#9c179e"
             ],
             [
              0.4444444444444444,
              "#bd3786"
             ],
             [
              0.5555555555555556,
              "#d8576b"
             ],
             [
              0.6666666666666666,
              "#ed7953"
             ],
             [
              0.7777777777777778,
              "#fb9f3a"
             ],
             [
              0.8888888888888888,
              "#fdca26"
             ],
             [
              1,
              "#f0f921"
             ]
            ],
            "type": "surface"
           }
          ],
          "table": [
           {
            "cells": {
             "fill": {
              "color": "#EBF0F8"
             },
             "line": {
              "color": "white"
             }
            },
            "header": {
             "fill": {
              "color": "#C8D4E3"
             },
             "line": {
              "color": "white"
             }
            },
            "type": "table"
           }
          ]
         },
         "layout": {
          "annotationdefaults": {
           "arrowcolor": "#2a3f5f",
           "arrowhead": 0,
           "arrowwidth": 1
          },
          "autotypenumbers": "strict",
          "coloraxis": {
           "colorbar": {
            "outlinewidth": 0,
            "ticks": ""
           }
          },
          "colorscale": {
           "diverging": [
            [
             0,
             "#8e0152"
            ],
            [
             0.1,
             "#c51b7d"
            ],
            [
             0.2,
             "#de77ae"
            ],
            [
             0.3,
             "#f1b6da"
            ],
            [
             0.4,
             "#fde0ef"
            ],
            [
             0.5,
             "#f7f7f7"
            ],
            [
             0.6,
             "#e6f5d0"
            ],
            [
             0.7,
             "#b8e186"
            ],
            [
             0.8,
             "#7fbc41"
            ],
            [
             0.9,
             "#4d9221"
            ],
            [
             1,
             "#276419"
            ]
           ],
           "sequential": [
            [
             0,
             "#0d0887"
            ],
            [
             0.1111111111111111,
             "#46039f"
            ],
            [
             0.2222222222222222,
             "#7201a8"
            ],
            [
             0.3333333333333333,
             "#9c179e"
            ],
            [
             0.4444444444444444,
             "#bd3786"
            ],
            [
             0.5555555555555556,
             "#d8576b"
            ],
            [
             0.6666666666666666,
             "#ed7953"
            ],
            [
             0.7777777777777778,
             "#fb9f3a"
            ],
            [
             0.8888888888888888,
             "#fdca26"
            ],
            [
             1,
             "#f0f921"
            ]
           ],
           "sequentialminus": [
            [
             0,
             "#0d0887"
            ],
            [
             0.1111111111111111,
             "#46039f"
            ],
            [
             0.2222222222222222,
             "#7201a8"
            ],
            [
             0.3333333333333333,
             "#9c179e"
            ],
            [
             0.4444444444444444,
             "#bd3786"
            ],
            [
             0.5555555555555556,
             "#d8576b"
            ],
            [
             0.6666666666666666,
             "#ed7953"
            ],
            [
             0.7777777777777778,
             "#fb9f3a"
            ],
            [
             0.8888888888888888,
             "#fdca26"
            ],
            [
             1,
             "#f0f921"
            ]
           ]
          },
          "colorway": [
           "#636efa",
           "#EF553B",
           "#00cc96",
           "#ab63fa",
           "#FFA15A",
           "#19d3f3",
           "#FF6692",
           "#B6E880",
           "#FF97FF",
           "#FECB52"
          ],
          "font": {
           "color": "#2a3f5f"
          },
          "geo": {
           "bgcolor": "white",
           "lakecolor": "white",
           "landcolor": "#E5ECF6",
           "showlakes": true,
           "showland": true,
           "subunitcolor": "white"
          },
          "hoverlabel": {
           "align": "left"
          },
          "hovermode": "closest",
          "mapbox": {
           "style": "light"
          },
          "paper_bgcolor": "white",
          "plot_bgcolor": "#E5ECF6",
          "polar": {
           "angularaxis": {
            "gridcolor": "white",
            "linecolor": "white",
            "ticks": ""
           },
           "bgcolor": "#E5ECF6",
           "radialaxis": {
            "gridcolor": "white",
            "linecolor": "white",
            "ticks": ""
           }
          },
          "scene": {
           "xaxis": {
            "backgroundcolor": "#E5ECF6",
            "gridcolor": "white",
            "gridwidth": 2,
            "linecolor": "white",
            "showbackground": true,
            "ticks": "",
            "zerolinecolor": "white"
           },
           "yaxis": {
            "backgroundcolor": "#E5ECF6",
            "gridcolor": "white",
            "gridwidth": 2,
            "linecolor": "white",
            "showbackground": true,
            "ticks": "",
            "zerolinecolor": "white"
           },
           "zaxis": {
            "backgroundcolor": "#E5ECF6",
            "gridcolor": "white",
            "gridwidth": 2,
            "linecolor": "white",
            "showbackground": true,
            "ticks": "",
            "zerolinecolor": "white"
           }
          },
          "shapedefaults": {
           "line": {
            "color": "#2a3f5f"
           }
          },
          "ternary": {
           "aaxis": {
            "gridcolor": "white",
            "linecolor": "white",
            "ticks": ""
           },
           "baxis": {
            "gridcolor": "white",
            "linecolor": "white",
            "ticks": ""
           },
           "bgcolor": "#E5ECF6",
           "caxis": {
            "gridcolor": "white",
            "linecolor": "white",
            "ticks": ""
           }
          },
          "title": {
           "x": 0.05
          },
          "xaxis": {
           "automargin": true,
           "gridcolor": "white",
           "linecolor": "white",
           "ticks": "",
           "title": {
            "standoff": 15
           },
           "zerolinecolor": "white",
           "zerolinewidth": 2
          },
          "yaxis": {
           "automargin": true,
           "gridcolor": "white",
           "linecolor": "white",
           "ticks": "",
           "title": {
            "standoff": 15
           },
           "zerolinecolor": "white",
           "zerolinewidth": 2
          }
         }
        },
        "title": {
         "text": "Daily Active Minutes Breakdown"
        }
       }
      }
     },
     "metadata": {},
     "output_type": "display_data"
    }
   ],
   "source": [
    "import matplotlib.pyplot as plt\n",
    "import pandas as pd\n",
    "import plotly.express as px\n",
    "\n",
    "\n",
    "daily_activity = pd.read_csv('daily_activity.csv')\n",
    "\n",
    "\n",
    "\n",
    "\n",
    "# Extract the activity data from the DataFrame\n",
    "activity = daily_activity[['VeryActiveMinutes', 'FairlyActiveMinutes', 'LightlyActiveMinutes', 'SedentaryMinutes']].sum()\n",
    "\n",
    "# Define the labels and values for the pie chart\n",
    "labels = ['Very Active', 'Fairly Active', 'Lightly Active', 'Sedentary']\n",
    "values = activity.values\n",
    "\n",
    "# Create the pie chart using Plotly Express\n",
    "fig = px.pie(values=values, names=labels, title='Daily Active Minutes Breakdown')\n",
    "\n",
    "# Display the chart\n",
    "fig.show()\n",
    "\n"
   ]
  },
  {
   "cell_type": "code",
   "execution_count": 18,
   "metadata": {},
   "outputs": [
    {
     "name": "stdout",
     "output_type": "stream",
     "text": [
      "     TotalSteps  TotalDistance  TrackerDistance  LoggedActivitiesDistance  \\\n",
      "0         13162       8.500000         8.500000                       0.0   \n",
      "1         10735       6.970000         6.970000                       0.0   \n",
      "2         10460       6.740000         6.740000                       0.0   \n",
      "3          9762       6.280000         6.280000                       0.0   \n",
      "4         12669       8.160000         8.160000                       0.0   \n",
      "..          ...            ...              ...                       ...   \n",
      "935       10686       8.110000         8.110000                       0.0   \n",
      "936       20226      18.250000        18.250000                       0.0   \n",
      "937       10733       8.150000         8.150000                       0.0   \n",
      "938       21420      19.559999        19.559999                       0.0   \n",
      "939        8064       6.120000         6.120000                       0.0   \n",
      "\n",
      "     VeryActiveDistance  ModeratelyActiveDistance  LightActiveDistance  \\\n",
      "0                  1.88                      0.55                 6.06   \n",
      "1                  1.57                      0.69                 4.71   \n",
      "2                  2.44                      0.40                 3.91   \n",
      "3                  2.14                      1.26                 2.83   \n",
      "4                  2.71                      0.41                 5.04   \n",
      "..                  ...                       ...                  ...   \n",
      "935                1.08                      0.20                 6.80   \n",
      "936               11.10                      0.80                 6.24   \n",
      "937                1.35                      0.46                 6.28   \n",
      "938               13.22                      0.41                 5.89   \n",
      "939                1.82                      0.04                 4.25   \n",
      "\n",
      "     SedentaryActiveDistance  VeryActiveMinutes  FairlyActiveMinutes  \\\n",
      "0                       0.00                 25                   13   \n",
      "1                       0.00                 21                   19   \n",
      "2                       0.00                 30                   11   \n",
      "3                       0.00                 29                   34   \n",
      "4                       0.00                 36                   10   \n",
      "..                       ...                ...                  ...   \n",
      "935                     0.00                 17                    4   \n",
      "936                     0.05                 73                   19   \n",
      "937                     0.00                 18                   11   \n",
      "938                     0.00                 88                   12   \n",
      "939                     0.00                 23                    1   \n",
      "\n",
      "     LightlyActiveMinutes  SedentaryMinutes  Calories  \n",
      "0                     328               728      1985  \n",
      "1                     217               776      1797  \n",
      "2                     181              1218      1776  \n",
      "3                     209               726      1745  \n",
      "4                     221               773      1863  \n",
      "..                    ...               ...       ...  \n",
      "935                   245              1174      2847  \n",
      "936                   217              1131      3710  \n",
      "937                   224              1187      2832  \n",
      "938                   213              1127      3832  \n",
      "939                   137               770      1849  \n",
      "\n",
      "[940 rows x 13 columns]\n"
     ]
    }
   ],
   "source": [
    "import pandas as pd\n",
    "\n",
    "# Load CSV data into a Pandas DataFrame\n",
    "df = pd.read_csv('daily_activity.csv')\n",
    "\n",
    "# Create a new DataFrame with two columns removed\n",
    "daily_activity2 = df.drop(['Id', 'Date'], axis=1)\n",
    "\n",
    "# Display the new DataFrame\n",
    "print(daily_activity2)\n"
   ]
  },
  {
   "cell_type": "code",
   "execution_count": 19,
   "metadata": {},
   "outputs": [],
   "source": [
    "# Save the new DataFrame as a CSV file\n",
    "daily_activity2.to_csv('daily_activity2.csv', index=False)\n"
   ]
  },
  {
   "cell_type": "code",
   "execution_count": 27,
   "metadata": {},
   "outputs": [
    {
     "ename": "KeyError",
     "evalue": "'Hour'",
     "output_type": "error",
     "traceback": [
      "\u001b[0;31m---------------------------------------------------------------------------\u001b[0m",
      "\u001b[0;31mKeyError\u001b[0m                                  Traceback (most recent call last)",
      "File \u001b[0;32m/Library/Frameworks/Python.framework/Versions/3.10/lib/python3.10/site-packages/pandas/core/indexes/base.py:3802\u001b[0m, in \u001b[0;36mIndex.get_loc\u001b[0;34m(self, key, method, tolerance)\u001b[0m\n\u001b[1;32m   3801\u001b[0m \u001b[39mtry\u001b[39;00m:\n\u001b[0;32m-> 3802\u001b[0m     \u001b[39mreturn\u001b[39;00m \u001b[39mself\u001b[39;49m\u001b[39m.\u001b[39;49m_engine\u001b[39m.\u001b[39;49mget_loc(casted_key)\n\u001b[1;32m   3803\u001b[0m \u001b[39mexcept\u001b[39;00m \u001b[39mKeyError\u001b[39;00m \u001b[39mas\u001b[39;00m err:\n",
      "File \u001b[0;32m/Library/Frameworks/Python.framework/Versions/3.10/lib/python3.10/site-packages/pandas/_libs/index.pyx:138\u001b[0m, in \u001b[0;36mpandas._libs.index.IndexEngine.get_loc\u001b[0;34m()\u001b[0m\n",
      "File \u001b[0;32m/Library/Frameworks/Python.framework/Versions/3.10/lib/python3.10/site-packages/pandas/_libs/index.pyx:165\u001b[0m, in \u001b[0;36mpandas._libs.index.IndexEngine.get_loc\u001b[0;34m()\u001b[0m\n",
      "File \u001b[0;32mpandas/_libs/hashtable_class_helper.pxi:5745\u001b[0m, in \u001b[0;36mpandas._libs.hashtable.PyObjectHashTable.get_item\u001b[0;34m()\u001b[0m\n",
      "File \u001b[0;32mpandas/_libs/hashtable_class_helper.pxi:5753\u001b[0m, in \u001b[0;36mpandas._libs.hashtable.PyObjectHashTable.get_item\u001b[0;34m()\u001b[0m\n",
      "\u001b[0;31mKeyError\u001b[0m: 'Hour'",
      "\nThe above exception was the direct cause of the following exception:\n",
      "\u001b[0;31mKeyError\u001b[0m                                  Traceback (most recent call last)",
      "Cell \u001b[0;32mIn[27], line 14\u001b[0m\n\u001b[1;32m     11\u001b[0m df[\u001b[39m'\u001b[39m\u001b[39mPercentage\u001b[39m\u001b[39m'\u001b[39m] \u001b[39m=\u001b[39m df[\u001b[39m'\u001b[39m\u001b[39mStepTotal\u001b[39m\u001b[39m'\u001b[39m] \u001b[39m/\u001b[39m total_steps \u001b[39m*\u001b[39m \u001b[39m100\u001b[39m\n\u001b[1;32m     13\u001b[0m \u001b[39m# Create a Pie chart\u001b[39;00m\n\u001b[0;32m---> 14\u001b[0m fig \u001b[39m=\u001b[39m go\u001b[39m.\u001b[39mFigure(data\u001b[39m=\u001b[39m[go\u001b[39m.\u001b[39mPie(labels\u001b[39m=\u001b[39mdf[\u001b[39m'\u001b[39;49m\u001b[39mHour\u001b[39;49m\u001b[39m'\u001b[39;49m], values\u001b[39m=\u001b[39mdf[\u001b[39m'\u001b[39m\u001b[39mPercentage\u001b[39m\u001b[39m'\u001b[39m])])\n\u001b[1;32m     16\u001b[0m \u001b[39m# Set chart title\u001b[39;00m\n\u001b[1;32m     17\u001b[0m fig\u001b[39m.\u001b[39mupdate_layout(title_text\u001b[39m=\u001b[39m\u001b[39m'\u001b[39m\u001b[39mPercentage of Total Steps by Hour\u001b[39m\u001b[39m'\u001b[39m)\n",
      "File \u001b[0;32m/Library/Frameworks/Python.framework/Versions/3.10/lib/python3.10/site-packages/pandas/core/frame.py:3807\u001b[0m, in \u001b[0;36mDataFrame.__getitem__\u001b[0;34m(self, key)\u001b[0m\n\u001b[1;32m   3805\u001b[0m \u001b[39mif\u001b[39;00m \u001b[39mself\u001b[39m\u001b[39m.\u001b[39mcolumns\u001b[39m.\u001b[39mnlevels \u001b[39m>\u001b[39m \u001b[39m1\u001b[39m:\n\u001b[1;32m   3806\u001b[0m     \u001b[39mreturn\u001b[39;00m \u001b[39mself\u001b[39m\u001b[39m.\u001b[39m_getitem_multilevel(key)\n\u001b[0;32m-> 3807\u001b[0m indexer \u001b[39m=\u001b[39m \u001b[39mself\u001b[39;49m\u001b[39m.\u001b[39;49mcolumns\u001b[39m.\u001b[39;49mget_loc(key)\n\u001b[1;32m   3808\u001b[0m \u001b[39mif\u001b[39;00m is_integer(indexer):\n\u001b[1;32m   3809\u001b[0m     indexer \u001b[39m=\u001b[39m [indexer]\n",
      "File \u001b[0;32m/Library/Frameworks/Python.framework/Versions/3.10/lib/python3.10/site-packages/pandas/core/indexes/base.py:3804\u001b[0m, in \u001b[0;36mIndex.get_loc\u001b[0;34m(self, key, method, tolerance)\u001b[0m\n\u001b[1;32m   3802\u001b[0m     \u001b[39mreturn\u001b[39;00m \u001b[39mself\u001b[39m\u001b[39m.\u001b[39m_engine\u001b[39m.\u001b[39mget_loc(casted_key)\n\u001b[1;32m   3803\u001b[0m \u001b[39mexcept\u001b[39;00m \u001b[39mKeyError\u001b[39;00m \u001b[39mas\u001b[39;00m err:\n\u001b[0;32m-> 3804\u001b[0m     \u001b[39mraise\u001b[39;00m \u001b[39mKeyError\u001b[39;00m(key) \u001b[39mfrom\u001b[39;00m \u001b[39merr\u001b[39;00m\n\u001b[1;32m   3805\u001b[0m \u001b[39mexcept\u001b[39;00m \u001b[39mTypeError\u001b[39;00m:\n\u001b[1;32m   3806\u001b[0m     \u001b[39m# If we have a listlike key, _check_indexing_error will raise\u001b[39;00m\n\u001b[1;32m   3807\u001b[0m     \u001b[39m#  InvalidIndexError. Otherwise we fall through and re-raise\u001b[39;00m\n\u001b[1;32m   3808\u001b[0m     \u001b[39m#  the TypeError.\u001b[39;00m\n\u001b[1;32m   3809\u001b[0m     \u001b[39mself\u001b[39m\u001b[39m.\u001b[39m_check_indexing_error(key)\n",
      "\u001b[0;31mKeyError\u001b[0m: 'Hour'"
     ]
    }
   ],
   "source": [
    "import plotly.graph_objects as go\n",
    "import pandas as pd\n",
    "\n",
    "# Load the dataset into a Pandas DataFrame\n",
    "df = pd.read_csv('hourly_steps.csv')\n",
    "\n",
    "# Calculate the total steps\n",
    "total_steps = df['StepTotal'].sum()\n",
    "\n",
    "# Calculate the percentage of total steps for each hour\n",
    "df['Percentage'] = df['StepTotal'] / total_steps * 100\n",
    "\n",
    "# Create a Pie chart\n",
    "fig = go.Figure(data=[go.Pie(labels=df['Hour'], values=df['Percentage'])])\n",
    "\n",
    "# Set chart title\n",
    "fig.update_layout(title_text='Percentage of Total Steps by Hour')\n",
    "\n",
    "# Show the chart\n",
    "fig.show()\n"
   ]
  },
  {
   "cell_type": "code",
   "execution_count": null,
   "metadata": {},
   "outputs": [],
   "source": [
    "import plotly.express as px\n",
    "\n",
    "# Calculate the total activity time for each category\n",
    "activity = daily_activity[['VeryActiveMinutes', 'FairlyActiveMinutes', 'LightlyActiveMinutes', 'SedentaryMinutes']].sum()\n",
    "\n",
    "# Create a DataFrame with the category names and activity times\n",
    "df = pd.DataFrame({'Activity': activity.index, 'Minutes': activity.values})\n",
    "\n",
    "# Create the bar chart using Plotly Express\n",
    "fig = px.bar(df, x='Activity', y='Minutes', title='Daily Activity Breakdown')\n",
    "\n",
    "# Display the chart\n",
    "fig.show()\n"
   ]
  },
  {
   "cell_type": "code",
   "execution_count": 24,
   "metadata": {},
   "outputs": [
    {
     "name": "stdout",
     "output_type": "stream",
     "text": [
      "       StepTotal\n",
      "0            373\n",
      "1            160\n",
      "2            151\n",
      "3              0\n",
      "4              0\n",
      "...          ...\n",
      "22094        514\n",
      "22095       1407\n",
      "22096       3135\n",
      "22097        307\n",
      "22098        457\n",
      "\n",
      "[22099 rows x 1 columns]\n"
     ]
    }
   ],
   "source": [
    "import pandas as pd\n",
    "\n",
    "# Load CSV data into a Pandas DataFrame\n",
    "df = pd.read_csv('hourlySteps_merged.csv')\n",
    "\n",
    "# Create a new DataFrame with two columns removed\n",
    "hourly_steps = df.drop(['Id', 'ActivityHour'], axis=1)\n",
    "\n",
    "# Display the new DataFrame\n",
    "print(hourly_steps)"
   ]
  },
  {
   "cell_type": "code",
   "execution_count": 20,
   "metadata": {},
   "outputs": [
    {
     "name": "stdout",
     "output_type": "stream",
     "text": [
      "                          TotalSteps  TotalDistance  TrackerDistance  \\\n",
      "TotalSteps                  1.000000       0.985369         0.984822   \n",
      "TotalDistance               0.985369       1.000000         0.999505   \n",
      "TrackerDistance             0.984822       0.999505         1.000000   \n",
      "LoggedActivitiesDistance    0.181849       0.188332         0.162585   \n",
      "VeryActiveDistance          0.740115       0.794582         0.794338   \n",
      "ModeratelyActiveDistance    0.507105       0.470758         0.470277   \n",
      "LightActiveDistance         0.692208       0.662002         0.661365   \n",
      "SedentaryActiveDistance     0.070505       0.082389         0.074591   \n",
      "VeryActiveMinutes           0.667079       0.681297         0.680816   \n",
      "FairlyActiveMinutes         0.498693       0.462899         0.463154   \n",
      "LightlyActiveMinutes        0.569600       0.516300         0.514713   \n",
      "SedentaryMinutes           -0.327484      -0.288094        -0.289343   \n",
      "Calories                    0.591568       0.644962         0.645313   \n",
      "\n",
      "                          LoggedActivitiesDistance  VeryActiveDistance  \\\n",
      "TotalSteps                                0.181849            0.740115   \n",
      "TotalDistance                             0.188332            0.794582   \n",
      "TrackerDistance                           0.162585            0.794338   \n",
      "LoggedActivitiesDistance                  1.000000            0.150852   \n",
      "VeryActiveDistance                        0.150852            1.000000   \n",
      "ModeratelyActiveDistance                  0.076527            0.192986   \n",
      "LightActiveDistance                       0.138302            0.157669   \n",
      "SedentaryActiveDistance                   0.154996            0.046117   \n",
      "VeryActiveMinutes                         0.234443            0.826681   \n",
      "FairlyActiveMinutes                       0.053860            0.211730   \n",
      "LightlyActiveMinutes                      0.102135            0.059845   \n",
      "SedentaryMinutes                         -0.046999           -0.061754   \n",
      "Calories                                  0.207595            0.491959   \n",
      "\n",
      "                          ModeratelyActiveDistance  LightActiveDistance  \\\n",
      "TotalSteps                                0.507105             0.692208   \n",
      "TotalDistance                             0.470758             0.662002   \n",
      "TrackerDistance                           0.470277             0.661365   \n",
      "LoggedActivitiesDistance                  0.076527             0.138302   \n",
      "VeryActiveDistance                        0.192986             0.157669   \n",
      "ModeratelyActiveDistance                  1.000000             0.237847   \n",
      "LightActiveDistance                       0.237847             1.000000   \n",
      "SedentaryActiveDistance                   0.005793             0.099503   \n",
      "VeryActiveMinutes                         0.225464             0.154966   \n",
      "FairlyActiveMinutes                       0.946934             0.220129   \n",
      "LightlyActiveMinutes                      0.162092             0.885697   \n",
      "SedentaryMinutes                         -0.221436            -0.413552   \n",
      "Calories                                  0.216790             0.466917   \n",
      "\n",
      "                          SedentaryActiveDistance  VeryActiveMinutes  \\\n",
      "TotalSteps                               0.070505           0.667079   \n",
      "TotalDistance                            0.082389           0.681297   \n",
      "TrackerDistance                          0.074591           0.680816   \n",
      "LoggedActivitiesDistance                 0.154996           0.234443   \n",
      "VeryActiveDistance                       0.046117           0.826681   \n",
      "ModeratelyActiveDistance                 0.005793           0.225464   \n",
      "LightActiveDistance                      0.099503           0.154966   \n",
      "SedentaryActiveDistance                  1.000000           0.008258   \n",
      "VeryActiveMinutes                        0.008258           1.000000   \n",
      "FairlyActiveMinutes                     -0.022361           0.312420   \n",
      "LightlyActiveMinutes                     0.124185           0.051926   \n",
      "SedentaryMinutes                         0.035475          -0.164671   \n",
      "Calories                                 0.043652           0.615838   \n",
      "\n",
      "                          FairlyActiveMinutes  LightlyActiveMinutes  \\\n",
      "TotalSteps                           0.498693              0.569600   \n",
      "TotalDistance                        0.462899              0.516300   \n",
      "TrackerDistance                      0.463154              0.514713   \n",
      "LoggedActivitiesDistance             0.053860              0.102135   \n",
      "VeryActiveDistance                   0.211730              0.059845   \n",
      "ModeratelyActiveDistance             0.946934              0.162092   \n",
      "LightActiveDistance                  0.220129              0.885697   \n",
      "SedentaryActiveDistance             -0.022361              0.124185   \n",
      "VeryActiveMinutes                    0.312420              0.051926   \n",
      "FairlyActiveMinutes                  1.000000              0.148820   \n",
      "LightlyActiveMinutes                 0.148820              1.000000   \n",
      "SedentaryMinutes                    -0.237446             -0.437104   \n",
      "Calories                             0.297623              0.286718   \n",
      "\n",
      "                          SedentaryMinutes  Calories  \n",
      "TotalSteps                       -0.327484  0.591568  \n",
      "TotalDistance                    -0.288094  0.644962  \n",
      "TrackerDistance                  -0.289343  0.645313  \n",
      "LoggedActivitiesDistance         -0.046999  0.207595  \n",
      "VeryActiveDistance               -0.061754  0.491959  \n",
      "ModeratelyActiveDistance         -0.221436  0.216790  \n",
      "LightActiveDistance              -0.413552  0.466917  \n",
      "SedentaryActiveDistance           0.035475  0.043652  \n",
      "VeryActiveMinutes                -0.164671  0.615838  \n",
      "FairlyActiveMinutes              -0.237446  0.297623  \n",
      "LightlyActiveMinutes             -0.437104  0.286718  \n",
      "SedentaryMinutes                  1.000000 -0.106973  \n",
      "Calories                         -0.106973  1.000000  \n"
     ]
    }
   ],
   "source": [
    "import pandas as pd\n",
    "\n",
    "# Load CSV data into a Pandas DataFrame\n",
    "df = pd.read_csv('daily_activity2.csv')\n",
    "\n",
    "# Calculate the correlation matrix\n",
    "corr_matrix = df.corr()\n",
    "\n",
    "# Display the correlation matrix\n",
    "print(corr_matrix)\n"
   ]
  },
  {
   "cell_type": "code",
   "execution_count": 30,
   "metadata": {},
   "outputs": [
    {
     "data": {
      "image/png": "[encoded data removed]",
      "text/plain": [
       "<Figure size 640x480 with 2 Axes>"
      ]
     },
     "metadata": {},
     "output_type": "display_data"
    },
    {
     "data": {
      "application/vnd.plotly.v1+json": {
       "config": {
        "plotlyServerURL": "https://plot.ly"
       },
       "data": [
        {
         "coloraxis": "coloraxis",
         "hovertemplate": "x: %{x}<br>y: %{y}<br>color: %{z}<extra></extra>",
         "name": "0",
         "type": "heatmap",
         "x": [
          "TotalSteps",
          "TotalDistance",
          "TrackerDistance",
          "LoggedActivitiesDistance",
          "VeryActiveDistance",
          "ModeratelyActiveDistance",
          "LightActiveDistance",
          "SedentaryActiveDistance",
          "VeryActiveMinutes",
          "FairlyActiveMinutes",
          "LightlyActiveMinutes",
          "SedentaryMinutes",
          "Calories"
         ],
         "xaxis": "x",
         "y": [
          "TotalSteps",
          "TotalDistance",
          "TrackerDistance",
          "LoggedActivitiesDistance",
          "VeryActiveDistance",
          "ModeratelyActiveDistance",
          "LightActiveDistance",
          "SedentaryActiveDistance",
          "VeryActiveMinutes",
          "FairlyActiveMinutes",
          "LightlyActiveMinutes",
          "SedentaryMinutes",
          "Calories"
         ],
         "yaxis": "y",
         "z": [
          [
           1,
           0.9853688433590571,
           0.9848222257257503,
           0.18184869190343694,
           0.7401145774842421,
           0.507105448870925,
           0.692208204349912,
           0.07050474227031706,
           0.6670786974802779,
           0.4986933709186319,
           0.5696002070110668,
           -0.327483546105064,
           0.5915680862453354
          ],
          [
           0.9853688433590571,
           1,
           0.9995047300455726,
           0.188331781409906,
           0.7945816247332644,
           0.47075827253022284,
           0.6620015376931108,
           0.08238904610292959,
           0.6812974343407623,
           0.46289888989696254,
           0.5163004933459355,
           -0.2880943643971919,
           0.6449618736811541
          ],
          [
           0.9848222257257503,
           0.9995047300455726,
           1,
           0.16258529772541314,
           0.7943380725985387,
           0.47027739104524097,
           0.661364809652452,
           0.0745908850972709,
           0.6808159868192444,
           0.4631541533356734,
           0.5147130799302573,
           -0.2893432169575255,
           0.6453132989845332
          ],
          [
           0.18184869190343694,
           0.188331781409906,
           0.16258529772541314,
           1,
           0.15085226497391,
           0.07652693244463193,
           0.13830151239193506,
           0.15499617841318053,
           0.23444285637306753,
           0.05385995866274755,
           0.10213494264004574,
           -0.04699945250375086,
           0.20759511115653118
          ],
          [
           0.7401145774842421,
           0.7945816247332644,
           0.7943380725985387,
           0.15085226497391,
           1,
           0.19298587403157397,
           0.15766926184630206,
           0.0461167483875493,
           0.8266814608310636,
           0.21173011178717235,
           0.05984538009760402,
           -0.06175418715461894,
           0.49195856473999505
          ],
          [
           0.507105448870925,
           0.47075827253022284,
           0.47027739104524097,
           0.07652693244463193,
           0.19298587403157397,
           1,
           0.2378474469847327,
           0.005793403432848883,
           0.2254640086898767,
           0.9469340353192599,
           0.16209188509764674,
           -0.22143605746153763,
           0.2167898715154799
          ],
          [
           0.692208204349912,
           0.6620015376931108,
           0.661364809652452,
           0.13830151239193506,
           0.15766926184630206,
           0.2378474469847327,
           1,
           0.09950320385505829,
           0.15496647863411886,
           0.22012906903242457,
           0.8856970665188598,
           -0.4135517145579762,
           0.4669167596021843
          ],
          [
           0.07050474227031706,
           0.08238904610292959,
           0.0745908850972709,
           0.15499617841318053,
           0.0461167483875493,
           0.005793403432848883,
           0.09950320385505829,
           1,
           0.00825814892286986,
           -0.022360868796603928,
           0.12418472877249703,
           0.03547460620897313,
           0.043651874911370826
          ],
          [
           0.6670786974802779,
           0.6812974343407623,
           0.6808159868192444,
           0.23444285637306753,
           0.8266814608310636,
           0.2254640086898767,
           0.15496647863411886,
           0.00825814892286986,
           1,
           0.31242035347792385,
           0.051925908786308754,
           -0.1646709924388926,
           0.6158382682703382
          ],
          [
           0.4986933709186319,
           0.46289888989696254,
           0.4631541533356734,
           0.05385995866274755,
           0.21173011178717235,
           0.9469340353192599,
           0.22012906903242457,
           -0.022360868796603928,
           0.31242035347792385,
           1,
           0.148819910205137,
           -0.23744642020750917,
           0.2976234682651217
          ],
          [
           0.5696002070110668,
           0.5163004933459355,
           0.5147130799302573,
           0.10213494264004574,
           0.05984538009760402,
           0.16209188509764674,
           0.8856970665188598,
           0.12418472877249703,
           0.051925908786308754,
           0.148819910205137,
           1,
           -0.4371038965525336,
           0.28671753401754885
          ],
          [
           -0.327483546105064,
           -0.2880943643971919,
           -0.2893432169575255,
           -0.04699945250375086,
           -0.06175418715461894,
           -0.22143605746153763,
           -0.4135517145579762,
           0.03547460620897313,
           -0.1646709924388926,
           -0.23744642020750917,
           -0.4371038965525336,
           1,
           -0.10697304768018791
          ],
          [
           0.5915680862453354,
           0.6449618736811541,
           0.6453132989845332,
           0.20759511115653118,
           0.49195856473999505,
           0.2167898715154799,
           0.4669167596021843,
           0.043651874911370826,
           0.6158382682703382,
           0.2976234682651217,
           0.28671753401754885,
           -0.10697304768018791,
           1
          ]
         ]
        }
       ],
       "layout": {
        "coloraxis": {
         "colorscale": [
          [
           0,
           "#0d0887"
          ],
          [
           0.1111111111111111,
           "#46039f"
          ],
          [
           0.2222222222222222,
           "#7201a8"
          ],
          [
           0.3333333333333333,
           "#9c179e"
          ],
          [
           0.4444444444444444,
           "#bd3786"
          ],
          [
           0.5555555555555556,
           "#d8576b"
          ],
          [
           0.6666666666666666,
           "#ed7953"
          ],
          [
           0.7777777777777778,
           "#fb9f3a"
          ],
          [
           0.8888888888888888,
           "#fdca26"
          ],
          [
           1,
           "#f0f921"
          ]
         ]
        },
        "margin": {
         "t": 60
        },
        "template": {
         "data": {
          "bar": [
           {
            "error_x": {
             "color": "#2a3f5f"
            },
            "error_y": {
             "color": "#2a3f5f"
            },
            "marker": {
             "line": {
              "color": "#E5ECF6",
              "width": 0.5
             },
             "pattern": {
              "fillmode": "overlay",
              "size": 10,
              "solidity": 0.2
             }
            },
            "type": "bar"
           }
          ],
          "barpolar": [
           {
            "marker": {
             "line": {
              "color": "#E5ECF6",
              "width": 0.5
             },
             "pattern": {
              "fillmode": "overlay",
              "size": 10,
              "solidity": 0.2
             }
            },
            "type": "barpolar"
           }
          ],
          "carpet": [
           {
            "aaxis": {
             "endlinecolor": "#2a3f5f",
             "gridcolor": "white",
             "linecolor": "white",
             "minorgridcolor": "white",
             "startlinecolor": "#2a3f5f"
            },
            "baxis": {
             "endlinecolor": "#2a3f5f",
             "gridcolor": "white",
             "linecolor": "white",
             "minorgridcolor": "white",
             "startlinecolor": "#2a3f5f"
            },
            "type": "carpet"
           }
          ],
          "choropleth": [
           {
            "colorbar": {
             "outlinewidth": 0,
             "ticks": ""
            },
            "type": "choropleth"
           }
          ],
          "contour": [
           {
            "colorbar": {
             "outlinewidth": 0,
             "ticks": ""
            },
            "colorscale": [
             [
              0,
              "#0d0887"
             ],
             [
              0.1111111111111111,
              "#46039f"
             ],
             [
              0.2222222222222222,
              "#7201a8"
             ],
             [
              0.3333333333333333,
              "#9c179e"
             ],
             [
              0.4444444444444444,
              "#bd3786"
             ],
             [
              0.5555555555555556,
              "#d8576b"
             ],
             [
              0.6666666666666666,
              "#ed7953"
             ],
             [
              0.7777777777777778,
              "#fb9f3a"
             ],
             [
              0.8888888888888888,
              "#fdca26"
             ],
             [
              1,
              "#f0f921"
             ]
            ],
            "type": "contour"
           }
          ],
          "contourcarpet": [
           {
            "colorbar": {
             "outlinewidth": 0,
             "ticks": ""
            },
            "type": "contourcarpet"
           }
          ],
          "heatmap": [
           {
            "colorbar": {
             "outlinewidth": 0,
             "ticks": ""
            },
            "colorscale": [
             [
              0,
              "#0d0887"
             ],
             [
              0.1111111111111111,
              "#46039f"
             ],
             [
              0.2222222222222222,
              "#7201a8"
             ],
             [
              0.3333333333333333,
              "#9c179e"
             ],
             [
              0.4444444444444444,
              "#bd3786"
             ],
             [
              0.5555555555555556,
              "#d8576b"
             ],
             [
              0.6666666666666666,
              "#ed7953"
             ],
             [
              0.7777777777777778,
              "#fb9f3a"
             ],
             [
              0.8888888888888888,
              "#fdca26"
             ],
             [
              1,
              "#f0f921"
             ]
            ],
            "type": "heatmap"
           }
          ],
          "heatmapgl": [
           {
            "colorbar": {
             "outlinewidth": 0,
             "ticks": ""
            },
            "colorscale": [
             [
              0,
              "#0d0887"
             ],
             [
              0.1111111111111111,
              "#46039f"
             ],
             [
              0.2222222222222222,
              "#7201a8"
             ],
             [
              0.3333333333333333,
              "#9c179e"
             ],
             [
              0.4444444444444444,
              "#bd3786"
             ],
             [
              0.5555555555555556,
              "#d8576b"
             ],
             [
              0.6666666666666666,
              "#ed7953"
             ],
             [
              0.7777777777777778,
              "#fb9f3a"
             ],
             [
              0.8888888888888888,
              "#fdca26"
             ],
             [
              1,
              "#f0f921"
             ]
            ],
            "type": "heatmapgl"
           }
          ],
          "histogram": [
           {
            "marker": {
             "pattern": {
              "fillmode": "overlay",
              "size": 10,
              "solidity": 0.2
             }
            },
            "type": "histogram"
           }
          ],
          "histogram2d": [
           {
            "colorbar": {
             "outlinewidth": 0,
             "ticks": ""
            },
            "colorscale": [
             [
              0,
              "#0d0887"
             ],
             [
              0.1111111111111111,
              "#46039f"
             ],
             [
              0.2222222222222222,
              "#7201a8"
             ],
             [
              0.3333333333333333,
              "#9c179e"
             ],
             [
              0.4444444444444444,
              "#bd3786"
             ],
             [
              0.5555555555555556,
              "#d8576b"
             ],
             [
              0.6666666666666666,
              "#ed7953"
             ],
             [
              0.7777777777777778,
              "#fb9f3a"
             ],
             [
              0.8888888888888888,
              "#fdca26"
             ],
             [
              1,
              "#f0f921"
             ]
            ],
            "type": "histogram2d"
           }
          ],
          "histogram2dcontour": [
           {
            "colorbar": {
             "outlinewidth": 0,
             "ticks": ""
            },
            "colorscale": [
             [
              0,
              "#0d0887"
             ],
             [
              0.1111111111111111,
              "#46039f"
             ],
             [
              0.2222222222222222,
              "#7201a8"
             ],
             [
              0.3333333333333333,
              "#9c179e"
             ],
             [
              0.4444444444444444,
              "#bd3786"
             ],
             [
              0.5555555555555556,
              "#d8576b"
             ],
             [
              0.6666666666666666,
              "#ed7953"
             ],
             [
              0.7777777777777778,
              "#fb9f3a"
             ],
             [
              0.8888888888888888,
              "#fdca26"
             ],
             [
              1,
              "#f0f921"
             ]
            ],
            "type": "histogram2dcontour"
           }
          ],
          "mesh3d": [
           {
            "colorbar": {
             "outlinewidth": 0,
             "ticks": ""
            },
            "type": "mesh3d"
           }
          ],
          "parcoords": [
           {
            "line": {
             "colorbar": {
              "outlinewidth": 0,
              "ticks": ""
             }
            },
            "type": "parcoords"
           }
          ],
          "pie": [
           {
            "automargin": true,
            "type": "pie"
           }
          ],
          "scatter": [
           {
            "fillpattern": {
             "fillmode": "overlay",
             "size": 10,
             "solidity": 0.2
            },
            "type": "scatter"
           }
          ],
          "scatter3d": [
           {
            "line": {
             "colorbar": {
              "outlinewidth": 0,
              "ticks": ""
             }
            },
            "marker": {
             "colorbar": {
              "outlinewidth": 0,
              "ticks": ""
             }
            },
            "type": "scatter3d"
           }
          ],
          "scattercarpet": [
           {
            "marker": {
             "colorbar": {
              "outlinewidth": 0,
              "ticks": ""
             }
            },
            "type": "scattercarpet"
           }
          ],
          "scattergeo": [
           {
            "marker": {
             "colorbar": {
              "outlinewidth": 0,
              "ticks": ""
             }
            },
            "type": "scattergeo"
           }
          ],
          "scattergl": [
           {
            "marker": {
             "colorbar": {
              "outlinewidth": 0,
              "ticks": ""
             }
            },
            "type": "scattergl"
           }
          ],
          "scattermapbox": [
           {
            "marker": {
             "colorbar": {
              "outlinewidth": 0,
              "ticks": ""
             }
            },
            "type": "scattermapbox"
           }
          ],
          "scatterpolar": [
           {
            "marker": {
             "colorbar": {
              "outlinewidth": 0,
              "ticks": ""
             }
            },
            "type": "scatterpolar"
           }
          ],
          "scatterpolargl": [
           {
            "marker": {
             "colorbar": {
              "outlinewidth": 0,
              "ticks": ""
             }
            },
            "type": "scatterpolargl"
           }
          ],
          "scatterternary": [
           {
            "marker": {
             "colorbar": {
              "outlinewidth": 0,
              "ticks": ""
             }
            },
            "type": "scatterternary"
           }
          ],
          "surface": [
           {
            "colorbar": {
             "outlinewidth": 0,
             "ticks": ""
            },
            "colorscale": [
             [
              0,
              "#0d0887"
             ],
             [
              0.1111111111111111,
              "#46039f"
             ],
             [
              0.2222222222222222,
              "#7201a8"
             ],
             [
              0.3333333333333333,
              "#9c179e"
             ],
             [
              0.4444444444444444,
              "#bd3786"
             ],
             [
              0.5555555555555556,
              "#d8576b"
             ],
             [
              0.6666666666666666,
              "#ed7953"
             ],
             [
              0.7777777777777778,
              "#fb9f3a"
             ],
             [
              0.8888888888888888,
              "#fdca26"
             ],
             [
              1,
              "#f0f921"
             ]
            ],
            "type": "surface"
           }
          ],
          "table": [
           {
            "cells": {
             "fill": {
              "color": "#EBF0F8"
             },
             "line": {
              "color": "white"
             }
            },
            "header": {
             "fill": {
              "color": "#C8D4E3"
             },
             "line": {
              "color": "white"
             }
            },
            "type": "table"
           }
          ]
         },
         "layout": {
          "annotationdefaults": {
           "arrowcolor": "#2a3f5f",
           "arrowhead": 0,
           "arrowwidth": 1
          },
          "autotypenumbers": "strict",
          "coloraxis": {
           "colorbar": {
            "outlinewidth": 0,
            "ticks": ""
           }
          },
          "colorscale": {
           "diverging": [
            [
             0,
             "#8e0152"
            ],
            [
             0.1,
             "#c51b7d"
            ],
            [
             0.2,
             "#de77ae"
            ],
            [
             0.3,
             "#f1b6da"
            ],
            [
             0.4,
             "#fde0ef"
            ],
            [
             0.5,
             "#f7f7f7"
            ],
            [
             0.6,
             "#e6f5d0"
            ],
            [
             0.7,
             "#b8e186"
            ],
            [
             0.8,
             "#7fbc41"
            ],
            [
             0.9,
             "#4d9221"
            ],
            [
             1,
             "#276419"
            ]
           ],
           "sequential": [
            [
             0,
             "#0d0887"
            ],
            [
             0.1111111111111111,
             "#46039f"
            ],
            [
             0.2222222222222222,
             "#7201a8"
            ],
            [
             0.3333333333333333,
             "#9c179e"
            ],
            [
             0.4444444444444444,
             "#bd3786"
            ],
            [
             0.5555555555555556,
             "#d8576b"
            ],
            [
             0.6666666666666666,
             "#ed7953"
            ],
            [
             0.7777777777777778,
             "#fb9f3a"
            ],
            [
             0.8888888888888888,
             "#fdca26"
            ],
            [
             1,
             "#f0f921"
            ]
           ],
           "sequentialminus": [
            [
             0,
             "#0d0887"
            ],
            [
             0.1111111111111111,
             "#46039f"
            ],
            [
             0.2222222222222222,
             "#7201a8"
            ],
            [
             0.3333333333333333,
             "#9c179e"
            ],
            [
             0.4444444444444444,
             "#bd3786"
            ],
            [
             0.5555555555555556,
             "#d8576b"
            ],
            [
             0.6666666666666666,
             "#ed7953"
            ],
            [
             0.7777777777777778,
             "#fb9f3a"
            ],
            [
             0.8888888888888888,
             "#fdca26"
            ],
            [
             1,
             "#f0f921"
            ]
           ]
          },
          "colorway": [
           "#636efa",
           "#EF553B",
           "#00cc96",
           "#ab63fa",
           "#FFA15A",
           "#19d3f3",
           "#FF6692",
           "#B6E880",
           "#FF97FF",
           "#FECB52"
          ],
          "font": {
           "color": "#2a3f5f"
          },
          "geo": {
           "bgcolor": "white",
           "lakecolor": "white",
           "landcolor": "#E5ECF6",
           "showlakes": true,
           "showland": true,
           "subunitcolor": "white"
          },
          "hoverlabel": {
           "align": "left"
          },
          "hovermode": "closest",
          "mapbox": {
           "style": "light"
          },
          "paper_bgcolor": "white",
          "plot_bgcolor": "#E5ECF6",
          "polar": {
           "angularaxis": {
            "gridcolor": "white",
            "linecolor": "white",
            "ticks": ""
           },
           "bgcolor": "#E5ECF6",
           "radialaxis": {
            "gridcolor": "white",
            "linecolor": "white",
            "ticks": ""
           }
          },
          "scene": {
           "xaxis": {
            "backgroundcolor": "#E5ECF6",
            "gridcolor": "white",
            "gridwidth": 2,
            "linecolor": "white",
            "showbackground": true,
            "ticks": "",
            "zerolinecolor": "white"
           },
           "yaxis": {
            "backgroundcolor": "#E5ECF6",
            "gridcolor": "white",
            "gridwidth": 2,
            "linecolor": "white",
            "showbackground": true,
            "ticks": "",
            "zerolinecolor": "white"
           },
           "zaxis": {
            "backgroundcolor": "#E5ECF6",
            "gridcolor": "white",
            "gridwidth": 2,
            "linecolor": "white",
            "showbackground": true,
            "ticks": "",
            "zerolinecolor": "white"
           }
          },
          "shapedefaults": {
           "line": {
            "color": "#2a3f5f"
           }
          },
          "ternary": {
           "aaxis": {
            "gridcolor": "white",
            "linecolor": "white",
            "ticks": ""
           },
           "baxis": {
            "gridcolor": "white",
            "linecolor": "white",
            "ticks": ""
           },
           "bgcolor": "#E5ECF6",
           "caxis": {
            "gridcolor": "white",
            "linecolor": "white",
            "ticks": ""
           }
          },
          "title": {
           "x": 0.05
          },
          "xaxis": {
           "automargin": true,
           "gridcolor": "white",
           "linecolor": "white",
           "ticks": "",
           "title": {
            "standoff": 15
           },
           "zerolinecolor": "white",
           "zerolinewidth": 2
          },
          "yaxis": {
           "automargin": true,
           "gridcolor": "white",
           "linecolor": "white",
           "ticks": "",
           "title": {
            "standoff": 15
           },
           "zerolinecolor": "white",
           "zerolinewidth": 2
          }
         }
        },
        "xaxis": {
         "anchor": "y",
         "constrain": "domain",
         "domain": [
          0,
          1
         ],
         "scaleanchor": "y"
        },
        "yaxis": {
         "anchor": "x",
         "autorange": "reversed",
         "constrain": "domain",
         "domain": [
          0,
          1
         ]
        }
       }
      }
     },
     "metadata": {},
     "output_type": "display_data"
    }
   ],
   "source": [
    "import pandas as pd\n",
    "import seaborn as sns\n",
    "import matplotlib.pyplot as plt\n",
    "\n",
    "# Load CSV data into a Pandas DataFrame\n",
    "df = pd.read_csv('daily_activity2.csv')\n",
    "\n",
    "# Calculate the correlation matrix\n",
    "corr_matrix = df.corr()\n",
    "\n",
    "# Create a heatmap of the correlation matrix\n",
    "sns.heatmap(corr_matrix, cmap='coolwarm')\n",
    "\n",
    "# Show the plot\n",
    "plt.show()\n",
    "\n",
    "\n",
    "\n",
    "import plotly.express as px\n",
    "\n",
    "fig = px.imshow(corr_matrix)\n",
    "fig.show()\n"
   ]
  },
  {
   "attachments": {},
   "cell_type": "markdown",
   "metadata": {},
   "source": [
    "I have a dataset with the following columns: \n",
    "\n",
    "StarID: The database primary key from a larger \"master database\" of stars.\n",
    "HD: The star's ID in the Henry Draper catalog, if known.\n",
    "HR: The star's ID in the Harvard Revised catalog, which is the same as its number in the Yale Bright Star Catalog.\n",
    "Gliese: The star's ID in the third edition of the Gliese Catalog of Nearby Stars.\n",
    "RA, Dec: The star's right ascension and declination, for epoch 2000.0. Stars present only in the Gliese Catalog, which uses 1950.0 coordinates, have had these coordinates precessed to 2000.\n",
    "ProperName: A common name for the star, such as \"Barnard's Star\" or \"Sirius\". I have taken these names primarily from the Hipparcos project's web site, which lists representative names for the 150 brightest stars and many of the 150 closest stars. \n",
    "Distance: The star's distance in parsecs, the most common unit in astrometry. To convert parsecs to light years, multiply by 3.262. A value of 10000000 indicates missing or dubious (e.g., negative) parallax data in Hipparcos.\n",
    "Mag: The star's apparent visual magnitude.\n",
    "AbsMag: The star's absolute visual magnitude (its apparent magnitude from a distance of 10 parsecs).\n",
    "Spectrum: The star's spectral type, if known.\n",
    "ColorIndex: The star's color index (blue magnitude - visual magnitude), where known.\n",
    "* X,Y,Z: The Cartesian coordinates of the star, in a system based on the equatorial coordinates as seen from Earth. +X is in the direction of the vernal equinox (at epoch 2000), +Z towards the north celestial pole, and +Y in the direction of R.A. 6 hours, declination 0 degrees. \n",
    "\n",
    "List some potential insights that a data analyst might discover also list some visualizations to go with those insights."
   ]
  }
 ],
 "metadata": {
  "kernelspec": {
   "display_name": "Python 3",
   "language": "python",
   "name": "python3"
  },
  "language_info": {
   "codemirror_mode": {
    "name": "ipython",
    "version": 3
   },
   "file_extension": ".py",
   "mimetype": "text/x-python",
   "name": "python",
   "nbconvert_exporter": "python",
   "pygments_lexer": "ipython3",
   "version": "3.10.10"
  },
  "orig_nbformat": 4
 },
 "nbformat": 4,
 "nbformat_minor": 2
}
